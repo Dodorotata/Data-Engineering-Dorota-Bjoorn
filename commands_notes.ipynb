{
 "cells": [
  {
   "cell_type": "markdown",
   "metadata": {},
   "source": [
    "Commands glossary\n",
    "\n",
    "| Command | What does the command do                                                                                                                                | Some useful options |\n",
    "| ------- | ------------------------------------------------------------------------------------------------------------------------------------------------------- | ------------------- |\n",
    "| cd      | current directory                                                                                                                                                                          |                     |\n",
    "| ls      | list files in directory                                                                                                                                                                    |                     |\n",
    "| touch   | create a new file or update the access and modification timestamps of an existing file                                                                                                     |                     |\n",
    "| wc      | count the number of lines, words, and characters in a file or input from the standard input                                                                                        |                     |\n",
    "| grep    | searching and filtering text based on patterns                                                                                                                                    |                     |\n",
    "| mkdir   | creates directory                                                                                                                                                                          |                     |\n",
    "| mv      | move or rename files and directories.                                                                                                                                              |                     |\n",
    "| rm      | remove/delete files and directories.                                                                                                                                               |                     |\n",
    "| rmdir   | remove/delete empty directories.                                                                                                                                                   |                     |\n",
    "| ssh     | establish a secure shell (SSH) connection to a remote server or device.                                                                                                            |                     |\n",
    "| curl    | is a command-line tool used to transfer data to or from a server using various protocols                                                                                                   |                     |\n",
    "| sudo    | execute a command with elevated privileges or as the superuser (root user)                                                                                                         |                     |\n",
    "| apt-get | install, upgrade, or remove software packages from the system                                                                                                                |                     |\n",
    "| ps      | display information about currently running processes on a system                                                                                                        |                     |\n",
    "| cp      | copy files and directories                                                                                                                                               |                     |\n",
    "| less    | pager that allows you to view and navigate through the contents of a file.                                                                                                  |                     |\n",
    "| top     | utility that provides real-time monitoring of system processes and resource usage                                                                                             |                     |\n",
    "| head    | display the beginning (head) portion of a file                                                                                                                        |                     |\n",
    "| echo    | display text or variables as output in terminal                                                                                                                                               |                     |\n",
    "| cat     | concatenate and display the contents of files in terminal                                                                                                                                      |                     |\n",
    "| chmod   | change the permissions of files and directories in Linux and Unix-based systems                                                                                                    |                     |\n",
    "| chown   | change the ownership of files and directories in Linux and Unix-based systems                                                                                                      |                     |\n",
    "| kill    | terminates or sends a signal to a process.                                                                                                                                                 |                     |\n",
    "| &&      | logical operator allows to execute a command only if the preceding command succeeds                                                                                       |                     |\n",
    "| wget    | downloading files from the web                                                                                                                       |                     |\n",
    "| pwd     | print working directory.                                                                                                                                                                   |                     |\n",
    "| >>      | a redirection operator used to append the output of a command or the contents of a file to the end of another file, without overwriting.                     |                     |\n",
    "| >       | redirect the output of a command or the contents of a file to a file, overwriting its existing contents.                                         |                     |\n",
    "| \\*      | is a wildcard character in Bash used to represent any sequence of characters in a filename or command argument |                     |\n",
    "| ./      | specify the current directory as the location for executing a command or running a script                                    |                     |\n",
    "| diff    | compare and highlight the differences between two files or directories                                                                                                             |                     |\n",
    "| find    | search for files and directories within a specified directory hierarchy                                                                                                            |                     |"
   ]
  },
  {
   "cell_type": "markdown",
   "metadata": {},
   "source": [
    "---\n",
    "# 00 - Bash"
   ]
  },
  {
   "cell_type": "markdown",
   "metadata": {},
   "source": [
    "---\n",
    "# 01 - Docker\n",
    "\n",
    "*\n",
    "\n",
    "* Q - N: main.py vad betyder de olika delarna \n",
    "\n",
    "* Q: \n",
    "* not done 1c, 2"
   ]
  },
  {
   "cell_type": "markdown",
   "metadata": {},
   "source": []
  }
 ],
 "metadata": {
  "language_info": {
   "name": "python"
  },
  "orig_nbformat": 4
 },
 "nbformat": 4,
 "nbformat_minor": 2
}
