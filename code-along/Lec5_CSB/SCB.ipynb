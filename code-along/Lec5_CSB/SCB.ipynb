{
 "cells": [
  {
   "attachments": {},
   "cell_type": "markdown",
   "metadata": {},
   "source": [
    "# `SCB API`"
   ]
  },
  {
   "cell_type": "code",
   "execution_count": 1,
   "metadata": {},
   "outputs": [
    {
     "data": {
      "text/plain": [
       "[{'id': 'AA', 'type': 'l', 'text': 'Ämnesövergripande statistik'},\n",
       " {'id': 'AM', 'type': 'l', 'text': 'Arbetsmarknad'},\n",
       " {'id': 'BE', 'type': 'l', 'text': 'Befolkning'},\n",
       " {'id': 'BO', 'type': 'l', 'text': 'Boende, byggande och bebyggelse'},\n",
       " {'id': 'EN', 'type': 'l', 'text': 'Energi'},\n",
       " {'id': 'FM', 'type': 'l', 'text': 'Finansmarknad'},\n",
       " {'id': 'HA', 'type': 'l', 'text': 'Handel med varor och tjänster'},\n",
       " {'id': 'HE', 'type': 'l', 'text': 'Hushållens ekonomi'},\n",
       " {'id': 'HS', 'type': 'l', 'text': 'Hälso- och sjukvård'},\n",
       " {'id': 'JO', 'type': 'l', 'text': 'Jord- och skogsbruk, fiske'},\n",
       " {'id': 'KU', 'type': 'l', 'text': 'Kultur och fritid'},\n",
       " {'id': 'LE', 'type': 'l', 'text': 'Levnadsförhållanden'},\n",
       " {'id': 'ME', 'type': 'l', 'text': 'Demokrati'},\n",
       " {'id': 'MI', 'type': 'l', 'text': 'Miljö'},\n",
       " {'id': 'NR', 'type': 'l', 'text': 'Nationalräkenskaper'},\n",
       " {'id': 'NV', 'type': 'l', 'text': 'Näringsverksamhet'},\n",
       " {'id': 'OE', 'type': 'l', 'text': 'Offentlig ekonomi'},\n",
       " {'id': 'PR', 'type': 'l', 'text': 'Priser och konsumtion'},\n",
       " {'id': 'SO', 'type': 'l', 'text': 'Socialtjänst'},\n",
       " {'id': 'TK', 'type': 'l', 'text': 'Transporter och kommunikationer'},\n",
       " {'id': 'UF', 'type': 'l', 'text': 'Utbildning och forskning'}]"
      ]
     },
     "execution_count": 1,
     "metadata": {},
     "output_type": "execute_result"
    }
   ],
   "source": [
    "from pyscbwrapper import SCB\n",
    "\n",
    "scb = SCB(\"sv\")\n",
    "\n",
    "scb.info()"
   ]
  },
  {
   "cell_type": "code",
   "execution_count": 5,
   "metadata": {},
   "outputs": [
    {
     "data": {
      "text/plain": [
       "[{'id': 'AA', 'type': 'l', 'text': 'General statistics'},\n",
       " {'id': 'AM', 'type': 'l', 'text': 'Labour market'},\n",
       " {'id': 'BE', 'type': 'l', 'text': 'Population'},\n",
       " {'id': 'BO', 'type': 'l', 'text': 'Housing, construction and building'},\n",
       " {'id': 'EN', 'type': 'l', 'text': 'Energy'},\n",
       " {'id': 'FM', 'type': 'l', 'text': 'Financial markets'},\n",
       " {'id': 'HA', 'type': 'l', 'text': 'Trade in goods and services'},\n",
       " {'id': 'HE', 'type': 'l', 'text': 'Household finances'},\n",
       " {'id': 'JO', 'type': 'l', 'text': 'Agriculture, forestry and fishery'},\n",
       " {'id': 'LE', 'type': 'l', 'text': 'Living conditions'},\n",
       " {'id': 'ME', 'type': 'l', 'text': 'Democracy'},\n",
       " {'id': 'MI', 'type': 'l', 'text': 'Environment'},\n",
       " {'id': 'NR', 'type': 'l', 'text': 'National accounts'},\n",
       " {'id': 'NV', 'type': 'l', 'text': 'Business activities'},\n",
       " {'id': 'OE', 'type': 'l', 'text': 'Public finances'},\n",
       " {'id': 'PR', 'type': 'l', 'text': 'Prices and Consumption'},\n",
       " {'id': 'TK', 'type': 'l', 'text': 'Transport and communications'},\n",
       " {'id': 'UF', 'type': 'l', 'text': 'Education and research'}]"
      ]
     },
     "execution_count": 5,
     "metadata": {},
     "output_type": "execute_result"
    }
   ],
   "source": [
    "SCB(\"en\").info()"
   ]
  },
  {
   "cell_type": "code",
   "execution_count": 7,
   "metadata": {},
   "outputs": [
    {
     "data": {
      "text/plain": [
       "[{'id': 'MI0106',\n",
       "  'type': 'l',\n",
       "  'text': 'Discharges to water and sewage sludge production'},\n",
       " {'id': 'MI0107',\n",
       "  'type': 'l',\n",
       "  'text': 'Greenhouse gas emissions and removals'},\n",
       " {'id': 'MI0108', 'type': 'l', 'text': 'Emissions of atmospheric pollutants'},\n",
       " {'id': 'MI0305', 'type': 'l', 'text': 'Waste, generated and treated'},\n",
       " {'id': 'MI0307', 'type': 'l', 'text': 'Waste, packaging'}]"
      ]
     },
     "execution_count": 7,
     "metadata": {},
     "output_type": "execute_result"
    }
   ],
   "source": [
    "SCB(\"en\", \"MI\").info()[:5]"
   ]
  },
  {
   "cell_type": "code",
   "execution_count": 10,
   "metadata": {},
   "outputs": [
    {
     "data": {
      "text/plain": [
       "[{'id': 'TotaltUtslappN',\n",
       "  'type': 't',\n",
       "  'text': 'Total emissions and removals of greenhouse gases by greenhouse gas and sector. Year 1990 - 2021',\n",
       "  'updated': '2023-03-15T08:00:00'},\n",
       " {'id': 'MI0107UppvBoLok',\n",
       "  'type': 't',\n",
       "  'text': 'Emissions of greenhouse gases from heating of houses and buildings by greenhouse gas and subsector. Year 1990 - 2021',\n",
       "  'updated': '2023-03-15T08:00:00'},\n",
       " {'id': 'MI0107Prodanv',\n",
       "  'type': 't',\n",
       "  'text': 'Emissions of greenhouse gases from solvent use and other product use by greenhouse gas and area. Year 1990 - 2021',\n",
       "  'updated': '2023-03-15T08:00:00'}]"
      ]
     },
     "execution_count": 10,
     "metadata": {},
     "output_type": "execute_result"
    }
   ],
   "source": [
    "SCB(\"en\", \"MI\", \"MI0107\").info()[:3]"
   ]
  },
  {
   "cell_type": "code",
   "execution_count": 11,
   "metadata": {},
   "outputs": [
    {
     "data": {
      "text/plain": [
       "{'title': 'Total air emissions by greenhouse gas, sector, observations and year',\n",
       " 'variables': [{'code': 'Vaxthusgaser',\n",
       "   'text': 'greenhouse gas',\n",
       "   'values': ['CO2-ekv.',\n",
       "    'CO2',\n",
       "    'CO2-BIO',\n",
       "    'CH4',\n",
       "    'N2O_CO2-ekv.',\n",
       "    'CH4_CO2-ekv.',\n",
       "    'N2O',\n",
       "    'HFC',\n",
       "    'PFC',\n",
       "    'SF6',\n",
       "    'SF6_CO2-ekv.'],\n",
       "   'valueTexts': ['Total Greenhouse Gases (kt CO2-eqv.)',\n",
       "    'Fossil Carbon Dioxide (CO2) (kt)”',\n",
       "    'Biogenic carbon dioxide (CO2) from fuels (kt)',\n",
       "    'Methane (CH4) (t)',\n",
       "    'Nitrous Oxide (N2O) (kt CO2-eqv.)',\n",
       "    'Methane (CH4) (kt CO2-eqv.)',\n",
       "    'Nitrous Oxide (N2O) (t)',\n",
       "    'Hydrofluorocarbons (HFCs) (kt CO2-eqv.)',\n",
       "    'Perfluorocarbons (PFCs) (kt CO2-eqv.)',\n",
       "    'Sulphur Hexafluoride (SF6) (kg)',\n",
       "    'Sulphur Hexafluoride (SF6) (kt CO2-eqv.)']},\n",
       "  {'code': 'Sektor',\n",
       "   'text': 'sector',\n",
       "   'values': ['0.1',\n",
       "    '0.2',\n",
       "    '0.3',\n",
       "    '0.4',\n",
       "    '1.0',\n",
       "    '2.0',\n",
       "    '3.0',\n",
       "    '4.0',\n",
       "    '8.0',\n",
       "    '5.0',\n",
       "    '6.0',\n",
       "    '7.0',\n",
       "    '9.0',\n",
       "    '10.0'],\n",
       "   'valueTexts': ['NATIONAL TOTAL (excluding LULUCF, excluding international transports)',\n",
       "    'NATIONAL TOTAL (excluding LULUCF, including international transports)',\n",
       "    'NATIONAL TOTAL (including LULUCF, excluding international transports)',\n",
       "    'NATIONAL TOTAL (including LULUCF, including international transports)',\n",
       "    'OFF-ROAD VEHICLES AND OTHER MACHINERY, TOTAL',\n",
       "    'WASTE, TOTAL',\n",
       "    'ELECTRICITY AND DISTRICT HEATING, TOTAL',\n",
       "    'INDUSTRY, TOTAL',\n",
       "    'DOMESTIC TRANSPORT, TOTAL',\n",
       "    'INTERNATIONAL TRANSPORT, TOTAL',\n",
       "    'AGRICULTURE, TOTAL',\n",
       "    'SOLVENT USE AND OTHER PRODUCT USE, TOTAL',\n",
       "    'HEATING OF HOUSES AND PREMISES, TOTAL',\n",
       "    'LAND-USE, LAND-USE CHANGE AND FORESTRY (LULUCF), TOTAL']},\n",
       "  {'code': 'ContentsCode',\n",
       "   'text': 'observations',\n",
       "   'values': ['0000018Q'],\n",
       "   'valueTexts': ['Substance']},\n",
       "  {'code': 'Tid',\n",
       "   'text': 'year',\n",
       "   'values': ['1990',\n",
       "    '1991',\n",
       "    '1992',\n",
       "    '1993',\n",
       "    '1994',\n",
       "    '1995',\n",
       "    '1996',\n",
       "    '1997',\n",
       "    '1998',\n",
       "    '1999',\n",
       "    '2000',\n",
       "    '2001',\n",
       "    '2002',\n",
       "    '2003',\n",
       "    '2004',\n",
       "    '2005',\n",
       "    '2006',\n",
       "    '2007',\n",
       "    '2008',\n",
       "    '2009',\n",
       "    '2010',\n",
       "    '2011',\n",
       "    '2012',\n",
       "    '2013',\n",
       "    '2014',\n",
       "    '2015',\n",
       "    '2016',\n",
       "    '2017',\n",
       "    '2018',\n",
       "    '2019',\n",
       "    '2020',\n",
       "    '2021'],\n",
       "   'valueTexts': ['1990',\n",
       "    '1991',\n",
       "    '1992',\n",
       "    '1993',\n",
       "    '1994',\n",
       "    '1995',\n",
       "    '1996',\n",
       "    '1997',\n",
       "    '1998',\n",
       "    '1999',\n",
       "    '2000',\n",
       "    '2001',\n",
       "    '2002',\n",
       "    '2003',\n",
       "    '2004',\n",
       "    '2005',\n",
       "    '2006',\n",
       "    '2007',\n",
       "    '2008',\n",
       "    '2009',\n",
       "    '2010',\n",
       "    '2011',\n",
       "    '2012',\n",
       "    '2013',\n",
       "    '2014',\n",
       "    '2015',\n",
       "    '2016',\n",
       "    '2017',\n",
       "    '2018',\n",
       "    '2019',\n",
       "    '2020',\n",
       "    '2021'],\n",
       "   'time': True}]}"
      ]
     },
     "execution_count": 11,
     "metadata": {},
     "output_type": "execute_result"
    }
   ],
   "source": [
    "SCB(\"en\", \"MI\", \"MI0107\", \"TotaltUtslappN\").info()"
   ]
  },
  {
   "attachments": {},
   "cell_type": "markdown",
   "metadata": {},
   "source": [
    "## Exploring metadata"
   ]
  },
  {
   "cell_type": "code",
   "execution_count": 14,
   "metadata": {},
   "outputs": [
    {
     "data": {
      "text/plain": [
       "dict_keys(['title', 'variables'])"
      ]
     },
     "execution_count": 14,
     "metadata": {},
     "output_type": "execute_result"
    }
   ],
   "source": [
    "scb_emissions = SCB(\"en\", \"MI\", \"MI0107\", \"TotaltUtslappN\")\n",
    "\n",
    "emissions_info = scb_emissions.info()\n",
    "\n",
    "emissions_info.keys()"
   ]
  },
  {
   "cell_type": "code",
   "execution_count": 15,
   "metadata": {},
   "outputs": [
    {
     "data": {
      "text/plain": [
       "'Total air emissions by greenhouse gas, sector, observations and year'"
      ]
     },
     "execution_count": 15,
     "metadata": {},
     "output_type": "execute_result"
    }
   ],
   "source": [
    "emissions_info[\"title\"]"
   ]
  },
  {
   "cell_type": "code",
   "execution_count": 17,
   "metadata": {},
   "outputs": [
    {
     "data": {
      "text/plain": [
       "4"
      ]
     },
     "execution_count": 17,
     "metadata": {},
     "output_type": "execute_result"
    }
   ],
   "source": [
    "len(emissions_info[\"variables\"])"
   ]
  },
  {
   "cell_type": "code",
   "execution_count": 21,
   "metadata": {},
   "outputs": [
    {
     "data": {
      "text/plain": [
       "dict_keys(['code', 'text', 'values', 'valueTexts'])"
      ]
     },
     "execution_count": 21,
     "metadata": {},
     "output_type": "execute_result"
    }
   ],
   "source": [
    "emissions_info[\"variables\"][0].keys()"
   ]
  },
  {
   "cell_type": "code",
   "execution_count": 24,
   "metadata": {},
   "outputs": [
    {
     "data": {
      "text/plain": [
       "dict_keys(['greenhouse gas', 'sector', 'observations', 'year'])"
      ]
     },
     "execution_count": 24,
     "metadata": {},
     "output_type": "execute_result"
    }
   ],
   "source": [
    "emissions_variables = scb_emissions.get_variables()\n",
    "emissions_variables.keys()"
   ]
  },
  {
   "cell_type": "code",
   "execution_count": 26,
   "metadata": {},
   "outputs": [
    {
     "data": {
      "text/plain": [
       "['Total Greenhouse Gases (kt CO2-eqv.)',\n",
       " 'Fossil Carbon Dioxide (CO2) (kt)”',\n",
       " 'Biogenic carbon dioxide (CO2) from fuels (kt)',\n",
       " 'Methane (CH4) (t)',\n",
       " 'Nitrous Oxide (N2O) (kt CO2-eqv.)',\n",
       " 'Methane (CH4) (kt CO2-eqv.)',\n",
       " 'Nitrous Oxide (N2O) (t)',\n",
       " 'Hydrofluorocarbons (HFCs) (kt CO2-eqv.)',\n",
       " 'Perfluorocarbons (PFCs) (kt CO2-eqv.)',\n",
       " 'Sulphur Hexafluoride (SF6) (kg)',\n",
       " 'Sulphur Hexafluoride (SF6) (kt CO2-eqv.)']"
      ]
     },
     "execution_count": 26,
     "metadata": {},
     "output_type": "execute_result"
    }
   ],
   "source": [
    "emissions_variables[\"greenhouse gas\"]"
   ]
  },
  {
   "cell_type": "code",
   "execution_count": 27,
   "metadata": {},
   "outputs": [
    {
     "data": {
      "text/plain": [
       "['NATIONAL TOTAL (excluding LULUCF, excluding international transports)',\n",
       " 'NATIONAL TOTAL (excluding LULUCF, including international transports)',\n",
       " 'NATIONAL TOTAL (including LULUCF, excluding international transports)',\n",
       " 'NATIONAL TOTAL (including LULUCF, including international transports)',\n",
       " 'OFF-ROAD VEHICLES AND OTHER MACHINERY, TOTAL',\n",
       " 'WASTE, TOTAL',\n",
       " 'ELECTRICITY AND DISTRICT HEATING, TOTAL',\n",
       " 'INDUSTRY, TOTAL',\n",
       " 'DOMESTIC TRANSPORT, TOTAL',\n",
       " 'INTERNATIONAL TRANSPORT, TOTAL',\n",
       " 'AGRICULTURE, TOTAL',\n",
       " 'SOLVENT USE AND OTHER PRODUCT USE, TOTAL',\n",
       " 'HEATING OF HOUSES AND PREMISES, TOTAL',\n",
       " 'LAND-USE, LAND-USE CHANGE AND FORESTRY (LULUCF), TOTAL']"
      ]
     },
     "execution_count": 27,
     "metadata": {},
     "output_type": "execute_result"
    }
   ],
   "source": [
    "emissions_variables[\"sector\"]"
   ]
  },
  {
   "attachments": {},
   "cell_type": "markdown",
   "metadata": {},
   "source": [
    "## Fetching data"
   ]
  },
  {
   "cell_type": "code",
   "execution_count": 28,
   "metadata": {},
   "outputs": [
    {
     "data": {
      "text/plain": [
       "{'columns': [{'code': 'Vaxthusgaser', 'text': 'greenhouse gas', 'type': 'd'},\n",
       "  {'code': 'Sektor', 'text': 'sector', 'type': 'd'},\n",
       "  {'code': 'Tid', 'text': 'year', 'type': 't'},\n",
       "  {'code': '0000018Q', 'text': 'Substance', 'type': 'c'}],\n",
       " 'comments': [],\n",
       " 'data': [{'key': ['CO2-ekv.', '0.4', '1990'], 'values': ['28861.9']},\n",
       "  {'key': ['CO2-ekv.', '0.4', '1991'], 'values': ['29269.2']},\n",
       "  {'key': ['CO2-ekv.', '0.4', '1992'], 'values': ['30069.9']},\n",
       "  {'key': ['CO2-ekv.', '0.4', '1993'], 'values': ['34527.2']},\n",
       "  {'key': ['CO2-ekv.', '0.4', '1994'], 'values': ['36127.2']},\n",
       "  {'key': ['CO2-ekv.', '0.4', '1995'], 'values': ['35548.5']},\n",
       "  {'key': ['CO2-ekv.', '0.4', '1996'], 'values': ['37116.3']},\n",
       "  {'key': ['CO2-ekv.', '0.4', '1997'], 'values': ['32242.2']},\n",
       "  {'key': ['CO2-ekv.', '0.4', '1998'], 'values': ['32915.7']},\n",
       "  {'key': ['CO2-ekv.', '0.4', '1999'], 'values': ['29574.1']},\n",
       "  {'key': ['CO2-ekv.', '0.4', '2000'], 'values': ['26988.0']},\n",
       "  {'key': ['CO2-ekv.', '0.4', '2001'], 'values': ['26710.9']},\n",
       "  {'key': ['CO2-ekv.', '0.4', '2002'], 'values': ['27480.8']},\n",
       "  {'key': ['CO2-ekv.', '0.4', '2003'], 'values': ['32042.9']},\n",
       "  {'key': ['CO2-ekv.', '0.4', '2004'], 'values': ['34916.0']},\n",
       "  {'key': ['CO2-ekv.', '0.4', '2005'], 'values': ['31836.0']},\n",
       "  {'key': ['CO2-ekv.', '0.4', '2006'], 'values': ['24964.0']},\n",
       "  {'key': ['CO2-ekv.', '0.4', '2007'], 'values': ['26033.2']},\n",
       "  {'key': ['CO2-ekv.', '0.4', '2008'], 'values': ['23952.5']},\n",
       "  {'key': ['CO2-ekv.', '0.4', '2009'], 'values': ['19921.7']},\n",
       "  {'key': ['CO2-ekv.', '0.4', '2010'], 'values': ['23153.4']},\n",
       "  {'key': ['CO2-ekv.', '0.4', '2011'], 'values': ['16963.9']},\n",
       "  {'key': ['CO2-ekv.', '0.4', '2012'], 'values': ['13619.0']},\n",
       "  {'key': ['CO2-ekv.', '0.4', '2013'], 'values': ['13527.4']},\n",
       "  {'key': ['CO2-ekv.', '0.4', '2014'], 'values': ['13781.1']},\n",
       "  {'key': ['CO2-ekv.', '0.4', '2015'], 'values': ['15178.1']},\n",
       "  {'key': ['CO2-ekv.', '0.4', '2016'], 'values': ['17216.7']},\n",
       "  {'key': ['CO2-ekv.', '0.4', '2017'], 'values': ['23955.7']},\n",
       "  {'key': ['CO2-ekv.', '0.4', '2018'], 'values': ['24886.4']},\n",
       "  {'key': ['CO2-ekv.', '0.4', '2019'], 'values': ['22023.2']},\n",
       "  {'key': ['CO2-ekv.', '0.4', '2020'], 'values': ['14174.7']},\n",
       "  {'key': ['CO2-ekv.', '0.4', '2021'], 'values': ['15173.5']},\n",
       "  {'key': ['CO2', '0.4', '1990'], 'values': ['13210.4']},\n",
       "  {'key': ['CO2', '0.4', '1991'], 'values': ['13746.7']},\n",
       "  {'key': ['CO2', '0.4', '1992'], 'values': ['14714.0']},\n",
       "  {'key': ['CO2', '0.4', '1993'], 'values': ['18948.5']},\n",
       "  {'key': ['CO2', '0.4', '1994'], 'values': ['20523.3']},\n",
       "  {'key': ['CO2', '0.4', '1995'], 'values': ['20035.1']},\n",
       "  {'key': ['CO2', '0.4', '1996'], 'values': ['21563.7']},\n",
       "  {'key': ['CO2', '0.4', '1997'], 'values': ['16566.6']},\n",
       "  {'key': ['CO2', '0.4', '1998'], 'values': ['17264.2']},\n",
       "  {'key': ['CO2', '0.4', '1999'], 'values': ['14220.0']},\n",
       "  {'key': ['CO2', '0.4', '2000'], 'values': ['11828.6']},\n",
       "  {'key': ['CO2', '0.4', '2001'], 'values': ['11682.3']},\n",
       "  {'key': ['CO2', '0.4', '2002'], 'values': ['12704.8']},\n",
       "  {'key': ['CO2', '0.4', '2003'], 'values': ['17525.0']},\n",
       "  {'key': ['CO2', '0.4', '2004'], 'values': ['20279.4']},\n",
       "  {'key': ['CO2', '0.4', '2005'], 'values': ['17431.4']},\n",
       "  {'key': ['CO2', '0.4', '2006'], 'values': ['10779.2']},\n",
       "  {'key': ['CO2', '0.4', '2007'], 'values': ['12280.6']},\n",
       "  {'key': ['CO2', '0.4', '2008'], 'values': ['10486.3']},\n",
       "  {'key': ['CO2', '0.4', '2009'], 'values': ['7098.9']},\n",
       "  {'key': ['CO2', '0.4', '2010'], 'values': ['10222.6']},\n",
       "  {'key': ['CO2', '0.4', '2011'], 'values': ['4572.7']},\n",
       "  {'key': ['CO2', '0.4', '2012'], 'values': ['1702.3']},\n",
       "  {'key': ['CO2', '0.4', '2013'], 'values': ['1749.1']},\n",
       "  {'key': ['CO2', '0.4', '2014'], 'values': ['1963.1']},\n",
       "  {'key': ['CO2', '0.4', '2015'], 'values': ['3479.6']},\n",
       "  {'key': ['CO2', '0.4', '2016'], 'values': ['5584.4']},\n",
       "  {'key': ['CO2', '0.4', '2017'], 'values': ['12234.8']},\n",
       "  {'key': ['CO2', '0.4', '2018'], 'values': ['13404.9']},\n",
       "  {'key': ['CO2', '0.4', '2019'], 'values': ['10692.8']},\n",
       "  {'key': ['CO2', '0.4', '2020'], 'values': ['2947.1']},\n",
       "  {'key': ['CO2', '0.4', '2021'], 'values': ['4162.0']},\n",
       "  {'key': ['CO2-BIO', '0.4', '1990'], 'values': ['22879.5']},\n",
       "  {'key': ['CO2-BIO', '0.4', '1991'], 'values': ['25569.2']},\n",
       "  {'key': ['CO2-BIO', '0.4', '1992'], 'values': ['26433.0']},\n",
       "  {'key': ['CO2-BIO', '0.4', '1993'], 'values': ['28119.2']},\n",
       "  {'key': ['CO2-BIO', '0.4', '1994'], 'values': ['30425.7']},\n",
       "  {'key': ['CO2-BIO', '0.4', '1995'], 'values': ['31347.4']},\n",
       "  {'key': ['CO2-BIO', '0.4', '1996'], 'values': ['33369.7']},\n",
       "  {'key': ['CO2-BIO', '0.4', '1997'], 'values': ['33078.6']},\n",
       "  {'key': ['CO2-BIO', '0.4', '1998'], 'values': ['33265.8']},\n",
       "  {'key': ['CO2-BIO', '0.4', '1999'], 'values': ['33146.4']},\n",
       "  {'key': ['CO2-BIO', '0.4', '2000'], 'values': ['31475.1']},\n",
       "  {'key': ['CO2-BIO', '0.4', '2001'], 'values': ['35410.1']},\n",
       "  {'key': ['CO2-BIO', '0.4', '2002'], 'values': ['36905.7']},\n",
       "  {'key': ['CO2-BIO', '0.4', '2003'], 'values': ['37051.6']},\n",
       "  {'key': ['CO2-BIO', '0.4', '2004'], 'values': ['38400.5']},\n",
       "  {'key': ['CO2-BIO', '0.4', '2005'], 'values': ['39388.3']},\n",
       "  {'key': ['CO2-BIO', '0.4', '2006'], 'values': ['41170.1']},\n",
       "  {'key': ['CO2-BIO', '0.4', '2007'], 'values': ['42650.9']},\n",
       "  {'key': ['CO2-BIO', '0.4', '2008'], 'values': ['43961.1']},\n",
       "  {'key': ['CO2-BIO', '0.4', '2009'], 'values': ['44492.1']},\n",
       "  {'key': ['CO2-BIO', '0.4', '2010'], 'values': ['49431.0']},\n",
       "  {'key': ['CO2-BIO', '0.4', '2011'], 'values': ['45198.3']},\n",
       "  {'key': ['CO2-BIO', '0.4', '2012'], 'values': ['46286.7']},\n",
       "  {'key': ['CO2-BIO', '0.4', '2013'], 'values': ['47208.3']},\n",
       "  {'key': ['CO2-BIO', '0.4', '2014'], 'values': ['45879.1']},\n",
       "  {'key': ['CO2-BIO', '0.4', '2015'], 'values': ['47387.8']},\n",
       "  {'key': ['CO2-BIO', '0.4', '2016'], 'values': ['49698.1']},\n",
       "  {'key': ['CO2-BIO', '0.4', '2017'], 'values': ['51302.3']},\n",
       "  {'key': ['CO2-BIO', '0.4', '2018'], 'values': ['50441.5']},\n",
       "  {'key': ['CO2-BIO', '0.4', '2019'], 'values': ['51092.8']},\n",
       "  {'key': ['CO2-BIO', '0.4', '2020'], 'values': ['50302.2']},\n",
       "  {'key': ['CO2-BIO', '0.4', '2021'], 'values': ['53074.9']},\n",
       "  {'key': ['CH4', '0.4', '1990'], 'values': ['315725.2']},\n",
       "  {'key': ['CH4', '0.4', '1991'], 'values': ['315374.5']},\n",
       "  {'key': ['CH4', '0.4', '1992'], 'values': ['320496.5']},\n",
       "  {'key': ['CH4', '0.4', '1993'], 'values': ['319255.7']},\n",
       "  {'key': ['CH4', '0.4', '1994'], 'values': ['316544.8']},\n",
       "  {'key': ['CH4', '0.4', '1995'], 'values': ['313082.0']},\n",
       "  {'key': ['CH4', '0.4', '1996'], 'values': ['313428.3']},\n",
       "  {'key': ['CH4', '0.4', '1997'], 'values': ['311207.5']},\n",
       "  {'key': ['CH4', '0.4', '1998'], 'values': ['306571.4']},\n",
       "  {'key': ['CH4', '0.4', '1999'], 'values': ['298941.4']},\n",
       "  {'key': ['CH4', '0.4', '2000'], 'values': ['292333.4']},\n",
       "  {'key': ['CH4', '0.4', '2001'], 'values': ['289473.7']},\n",
       "  {'key': ['CH4', '0.4', '2002'], 'values': ['279313.6']},\n",
       "  {'key': ['CH4', '0.4', '2003'], 'values': ['270610.4']},\n",
       "  {'key': ['CH4', '0.4', '2004'], 'values': ['271222.6']},\n",
       "  {'key': ['CH4', '0.4', '2005'], 'values': ['263440.0']},\n",
       "  {'key': ['CH4', '0.4', '2006'], 'values': ['258734.4']},\n",
       "  {'key': ['CH4', '0.4', '2007'], 'values': ['247685.2']},\n",
       "  {'key': ['CH4', '0.4', '2008'], 'values': ['236986.6']},\n",
       "  {'key': ['CH4', '0.4', '2009'], 'values': ['230172.1']},\n",
       "  {'key': ['CH4', '0.4', '2010'], 'values': ['225420.8']},\n",
       "  {'key': ['CH4', '0.4', '2011'], 'values': ['218781.7']},\n",
       "  {'key': ['CH4', '0.4', '2012'], 'values': ['210934.2']},\n",
       "  {'key': ['CH4', '0.4', '2013'], 'values': ['207147.8']},\n",
       "  {'key': ['CH4', '0.4', '2014'], 'values': ['202483.2']},\n",
       "  {'key': ['CH4', '0.4', '2015'], 'values': ['196725.7']},\n",
       "  {'key': ['CH4', '0.4', '2016'], 'values': ['193701.8']},\n",
       "  {'key': ['CH4', '0.4', '2017'], 'values': ['192287.7']},\n",
       "  {'key': ['CH4', '0.4', '2018'], 'values': ['191773.2']},\n",
       "  {'key': ['CH4', '0.4', '2019'], 'values': ['184399.6']},\n",
       "  {'key': ['CH4', '0.4', '2020'], 'values': ['180911.2']},\n",
       "  {'key': ['CH4', '0.4', '2021'], 'values': ['178754.0']},\n",
       "  {'key': ['N2O_CO2-ekv.', '0.4', '1990'], 'values': ['6189.5']},\n",
       "  {'key': ['N2O_CO2-ekv.', '0.4', '1991'], 'values': ['6060.5']},\n",
       "  {'key': ['N2O_CO2-ekv.', '0.4', '1992'], 'values': ['5914.6']},\n",
       "  {'key': ['N2O_CO2-ekv.', '0.4', '1993'], 'values': ['6101.7']},\n",
       "  {'key': ['N2O_CO2-ekv.', '0.4', '1994'], 'values': ['6126.1']},\n",
       "  {'key': ['N2O_CO2-ekv.', '0.4', '1995'], 'values': ['6000.7']},\n",
       "  {'key': ['N2O_CO2-ekv.', '0.4', '1996'], 'values': ['6018.2']},\n",
       "  {'key': ['N2O_CO2-ekv.', '0.4', '1997'], 'values': ['6054.3']},\n",
       "  {'key': ['N2O_CO2-ekv.', '0.4', '1998'], 'values': ['6116.6']},\n",
       "  {'key': ['N2O_CO2-ekv.', '0.4', '1999'], 'values': ['5847.7']},\n",
       "  {'key': ['N2O_CO2-ekv.', '0.4', '2000'], 'values': ['5788.1']},\n",
       "  {'key': ['N2O_CO2-ekv.', '0.4', '2001'], 'values': ['5661.0']},\n",
       "  {'key': ['N2O_CO2-ekv.', '0.4', '2002'], 'values': ['5584.4']},\n",
       "  {'key': ['N2O_CO2-ekv.', '0.4', '2003'], 'values': ['5541.3']},\n",
       "  {'key': ['N2O_CO2-ekv.', '0.4', '2004'], 'values': ['5561.6']},\n",
       "  {'key': ['N2O_CO2-ekv.', '0.4', '2005'], 'values': ['5461.7']},\n",
       "  {'key': ['N2O_CO2-ekv.', '0.4', '2006'], 'values': ['5403.1']},\n",
       "  {'key': ['N2O_CO2-ekv.', '0.4', '2007'], 'values': ['5242.3']},\n",
       "  {'key': ['N2O_CO2-ekv.', '0.4', '2008'], 'values': ['5351.9']},\n",
       "  {'key': ['N2O_CO2-ekv.', '0.4', '2009'], 'values': ['5177.0']},\n",
       "  {'key': ['N2O_CO2-ekv.', '0.4', '2010'], 'values': ['5320.6']},\n",
       "  {'key': ['N2O_CO2-ekv.', '0.4', '2011'], 'values': ['4975.6']},\n",
       "  {'key': ['N2O_CO2-ekv.', '0.4', '2012'], 'values': ['4862.1']},\n",
       "  {'key': ['N2O_CO2-ekv.', '0.4', '2013'], 'values': ['4874.8']},\n",
       "  {'key': ['N2O_CO2-ekv.', '0.4', '2014'], 'values': ['4988.4']},\n",
       "  {'key': ['N2O_CO2-ekv.', '0.4', '2015'], 'values': ['5045.1']},\n",
       "  {'key': ['N2O_CO2-ekv.', '0.4', '2016'], 'values': ['5044.4']},\n",
       "  {'key': ['N2O_CO2-ekv.', '0.4', '2017'], 'values': ['5214.6']},\n",
       "  {'key': ['N2O_CO2-ekv.', '0.4', '2018'], 'values': ['5034.8']},\n",
       "  {'key': ['N2O_CO2-ekv.', '0.4', '2019'], 'values': ['5149.7']},\n",
       "  {'key': ['N2O_CO2-ekv.', '0.4', '2020'], 'values': ['5176.6']},\n",
       "  {'key': ['N2O_CO2-ekv.', '0.4', '2021'], 'values': ['5084.3']},\n",
       "  {'key': ['CH4_CO2-ekv.', '0.4', '1990'], 'values': ['8840.3']},\n",
       "  {'key': ['CH4_CO2-ekv.', '0.4', '1991'], 'values': ['8830.5']},\n",
       "  {'key': ['CH4_CO2-ekv.', '0.4', '1992'], 'values': ['8973.9']},\n",
       "  {'key': ['CH4_CO2-ekv.', '0.4', '1993'], 'values': ['8939.2']},\n",
       "  {'key': ['CH4_CO2-ekv.', '0.4', '1994'], 'values': ['8863.3']},\n",
       "  {'key': ['CH4_CO2-ekv.', '0.4', '1995'], 'values': ['8766.3']},\n",
       "  {'key': ['CH4_CO2-ekv.', '0.4', '1996'], 'values': ['8776.0']},\n",
       "  {'key': ['CH4_CO2-ekv.', '0.4', '1997'], 'values': ['8713.8']},\n",
       "  {'key': ['CH4_CO2-ekv.', '0.4', '1998'], 'values': ['8584.0']},\n",
       "  {'key': ['CH4_CO2-ekv.', '0.4', '1999'], 'values': ['8370.4']},\n",
       "  {'key': ['CH4_CO2-ekv.', '0.4', '2000'], 'values': ['8185.3']},\n",
       "  {'key': ['CH4_CO2-ekv.', '0.4', '2001'], 'values': ['8105.3']},\n",
       "  {'key': ['CH4_CO2-ekv.', '0.4', '2002'], 'values': ['7820.8']},\n",
       "  {'key': ['CH4_CO2-ekv.', '0.4', '2003'], 'values': ['7577.1']},\n",
       "  {'key': ['CH4_CO2-ekv.', '0.4', '2004'], 'values': ['7594.2']},\n",
       "  {'key': ['CH4_CO2-ekv.', '0.4', '2005'], 'values': ['7376.3']},\n",
       "  {'key': ['CH4_CO2-ekv.', '0.4', '2006'], 'values': ['7244.6']},\n",
       "  {'key': ['CH4_CO2-ekv.', '0.4', '2007'], 'values': ['6935.2']},\n",
       "  {'key': ['CH4_CO2-ekv.', '0.4', '2008'], 'values': ['6635.6']},\n",
       "  {'key': ['CH4_CO2-ekv.', '0.4', '2009'], 'values': ['6444.8']},\n",
       "  {'key': ['CH4_CO2-ekv.', '0.4', '2010'], 'values': ['6311.8']},\n",
       "  {'key': ['CH4_CO2-ekv.', '0.4', '2011'], 'values': ['6125.9']},\n",
       "  {'key': ['CH4_CO2-ekv.', '0.4', '2012'], 'values': ['5906.2']},\n",
       "  {'key': ['CH4_CO2-ekv.', '0.4', '2013'], 'values': ['5800.1']},\n",
       "  {'key': ['CH4_CO2-ekv.', '0.4', '2014'], 'values': ['5669.5']},\n",
       "  {'key': ['CH4_CO2-ekv.', '0.4', '2015'], 'values': ['5508.3']},\n",
       "  {'key': ['CH4_CO2-ekv.', '0.4', '2016'], 'values': ['5423.7']},\n",
       "  {'key': ['CH4_CO2-ekv.', '0.4', '2017'], 'values': ['5384.1']},\n",
       "  {'key': ['CH4_CO2-ekv.', '0.4', '2018'], 'values': ['5369.6']},\n",
       "  {'key': ['CH4_CO2-ekv.', '0.4', '2019'], 'values': ['5163.2']},\n",
       "  {'key': ['CH4_CO2-ekv.', '0.4', '2020'], 'values': ['5065.5']},\n",
       "  {'key': ['CH4_CO2-ekv.', '0.4', '2021'], 'values': ['5005.1']},\n",
       "  {'key': ['N2O', '0.4', '1990'], 'values': ['23356.5']},\n",
       "  {'key': ['N2O', '0.4', '1991'], 'values': ['22869.8']},\n",
       "  {'key': ['N2O', '0.4', '1992'], 'values': ['22319.4']},\n",
       "  {'key': ['N2O', '0.4', '1993'], 'values': ['23025.2']},\n",
       "  {'key': ['N2O', '0.4', '1994'], 'values': ['23117.4']},\n",
       "  {'key': ['N2O', '0.4', '1995'], 'values': ['22644.3']},\n",
       "  {'key': ['N2O', '0.4', '1996'], 'values': ['22710.3']},\n",
       "  {'key': ['N2O', '0.4', '1997'], 'values': ['22846.4']},\n",
       "  {'key': ['N2O', '0.4', '1998'], 'values': ['23081.5']},\n",
       "  {'key': ['N2O', '0.4', '1999'], 'values': ['22066.9']},\n",
       "  {'key': ['N2O', '0.4', '2000'], 'values': ['21841.9']},\n",
       "  {'key': ['N2O', '0.4', '2001'], 'values': ['21362.4']},\n",
       "  {'key': ['N2O', '0.4', '2002'], 'values': ['21073.4']},\n",
       "  {'key': ['N2O', '0.4', '2003'], 'values': ['20910.7']},\n",
       "  {'key': ['N2O', '0.4', '2004'], 'values': ['20987.1']},\n",
       "  {'key': ['N2O', '0.4', '2005'], 'values': ['20610.0']},\n",
       "  {'key': ['N2O', '0.4', '2006'], 'values': ['20389.0']},\n",
       "  {'key': ['N2O', '0.4', '2007'], 'values': ['19782.3']},\n",
       "  {'key': ['N2O', '0.4', '2008'], 'values': ['20195.9']},\n",
       "  {'key': ['N2O', '0.4', '2009'], 'values': ['19535.9']},\n",
       "  {'key': ['N2O', '0.4', '2010'], 'values': ['20077.8']},\n",
       "  {'key': ['N2O', '0.4', '2011'], 'values': ['18776.0']},\n",
       "  {'key': ['N2O', '0.4', '2012'], 'values': ['18347.4']},\n",
       "  {'key': ['N2O', '0.4', '2013'], 'values': ['18395.5']},\n",
       "  {'key': ['N2O', '0.4', '2014'], 'values': ['18824.0']},\n",
       "  {'key': ['N2O', '0.4', '2015'], 'values': ['19038.3']},\n",
       "  {'key': ['N2O', '0.4', '2016'], 'values': ['19035.5']},\n",
       "  {'key': ['N2O', '0.4', '2017'], 'values': ['19677.6']},\n",
       "  {'key': ['N2O', '0.4', '2018'], 'values': ['18999.3']},\n",
       "  {'key': ['N2O', '0.4', '2019'], 'values': ['19432.8']},\n",
       "  {'key': ['N2O', '0.4', '2020'], 'values': ['19534.4']},\n",
       "  {'key': ['N2O', '0.4', '2021'], 'values': ['19186.2']},\n",
       "  {'key': ['HFC', '0.4', '1990'], 'values': ['5.9']},\n",
       "  {'key': ['HFC', '0.4', '1991'], 'values': ['10.2']},\n",
       "  {'key': ['HFC', '0.4', '1992'], 'values': ['11.7']},\n",
       "  {'key': ['HFC', '0.4', '1993'], 'values': ['28.3']},\n",
       "  {'key': ['HFC', '0.4', '1994'], 'values': ['69.2']},\n",
       "  {'key': ['HFC', '0.4', '1995'], 'values': ['128.7']},\n",
       "  {'key': ['HFC', '0.4', '1996'], 'values': ['215.6']},\n",
       "  {'key': ['HFC', '0.4', '1997'], 'values': ['353.0']},\n",
       "  {'key': ['HFC', '0.4', '1998'], 'values': ['457.8']},\n",
       "  {'key': ['HFC', '0.4', '1999'], 'values': ['602.5']},\n",
       "  {'key': ['HFC', '0.4', '2000'], 'values': ['725.4']},\n",
       "  {'key': ['HFC', '0.4', '2001'], 'values': ['803.8']},\n",
       "  {'key': ['HFC', '0.4', '2002'], 'values': ['880.8']},\n",
       "  {'key': ['HFC', '0.4', '2003'], 'values': ['947.3']},\n",
       "  {'key': ['HFC', '0.4', '2004'], 'values': ['1022.3']},\n",
       "  {'key': ['HFC', '0.4', '2005'], 'values': ['1044.9']},\n",
       "  {'key': ['HFC', '0.4', '2006'], 'values': ['1067.7']},\n",
       "  {'key': ['HFC', '0.4', '2007'], 'values': ['1072.5']},\n",
       "  {'key': ['HFC', '0.4', '2008'], 'values': ['1087.4']},\n",
       "  {'key': ['HFC', '0.4', '2009'], 'values': ['1084.0']},\n",
       "  {'key': ['HFC', '0.4', '2010'], 'values': ['1063.7']},\n",
       "  {'key': ['HFC', '0.4', '2011'], 'values': ['1038.9']},\n",
       "  {'key': ['HFC', '0.4', '2012'], 'values': ['1022.8']},\n",
       "  {'key': ['HFC', '0.4', '2013'], 'values': ['1013.8']},\n",
       "  {'key': ['HFC', '0.4', '2014'], 'values': ['1039.0']},\n",
       "  {'key': ['HFC', '0.4', '2015'], 'values': ['1058.5']},\n",
       "  {'key': ['HFC', '0.4', '2016'], 'values': ['1076.9']},\n",
       "  {'key': ['HFC', '0.4', '2017'], 'values': ['1042.2']},\n",
       "  {'key': ['HFC', '0.4', '2018'], 'values': ['987.4']},\n",
       "  {'key': ['HFC', '0.4', '2019'], 'values': ['937.8']},\n",
       "  {'key': ['HFC', '0.4', '2020'], 'values': ['888.6']},\n",
       "  {'key': ['HFC', '0.4', '2021'], 'values': ['840.8']},\n",
       "  {'key': ['PFC', '0.4', '1990'], 'values': ['510.9']},\n",
       "  {'key': ['PFC', '0.4', '1991'], 'values': ['515.5']},\n",
       "  {'key': ['PFC', '0.4', '1992'], 'values': ['349.8']},\n",
       "  {'key': ['PFC', '0.4', '1993'], 'values': ['407.1']},\n",
       "  {'key': ['PFC', '0.4', '1994'], 'values': ['435.7']},\n",
       "  {'key': ['PFC', '0.4', '1995'], 'values': ['478.3']},\n",
       "  {'key': ['PFC', '0.4', '1996'], 'values': ['422.2']},\n",
       "  {'key': ['PFC', '0.4', '1997'], 'values': ['390.1']},\n",
       "  {'key': ['PFC', '0.4', '1998'], 'values': ['378.5']},\n",
       "  {'key': ['PFC', '0.4', '1999'], 'values': ['408.5']},\n",
       "  {'key': ['PFC', '0.4', '2000'], 'values': ['338.2']},\n",
       "  {'key': ['PFC', '0.4', '2001'], 'values': ['331.9']},\n",
       "  {'key': ['PFC', '0.4', '2002'], 'values': ['366.8']},\n",
       "  {'key': ['PFC', '0.4', '2003'], 'values': ['364.4']},\n",
       "  {'key': ['PFC', '0.4', '2004'], 'values': ['360.9']},\n",
       "  {'key': ['PFC', '0.4', '2005'], 'values': ['365.5']},\n",
       "  {'key': ['PFC', '0.4', '2006'], 'values': ['353.3']},\n",
       "  {'key': ['PFC', '0.4', '2007'], 'values': ['361.0']},\n",
       "  {'key': ['PFC', '0.4', '2008'], 'values': ['316.2']},\n",
       "  {'key': ['PFC', '0.4', '2009'], 'values': ['44.8']},\n",
       "  {'key': ['PFC', '0.4', '2010'], 'values': ['169.2']},\n",
       "  {'key': ['PFC', '0.4', '2011'], 'values': ['193.7']},\n",
       "  {'key': ['PFC', '0.4', '2012'], 'values': ['70.9']},\n",
       "  {'key': ['PFC', '0.4', '2013'], 'values': ['46.2']},\n",
       "  {'key': ['PFC', '0.4', '2014'], 'values': ['73.9']},\n",
       "  {'key': ['PFC', '0.4', '2015'], 'values': ['31.7']},\n",
       "  {'key': ['PFC', '0.4', '2016'], 'values': ['28.1']},\n",
       "  {'key': ['PFC', '0.4', '2017'], 'values': ['32.9']},\n",
       "  {'key': ['PFC', '0.4', '2018'], 'values': ['55.7']},\n",
       "  {'key': ['PFC', '0.4', '2019'], 'values': ['44.4']},\n",
       "  {'key': ['PFC', '0.4', '2020'], 'values': ['58.7']},\n",
       "  {'key': ['PFC', '0.4', '2021'], 'values': ['41.7']},\n",
       "  {'key': ['SF6', '0.4', '1990'], 'values': ['4461.8']},\n",
       "  {'key': ['SF6', '0.4', '1991'], 'values': ['4504.0']},\n",
       "  {'key': ['SF6', '0.4', '1992'], 'values': ['4498.9']},\n",
       "  {'key': ['SF6', '0.4', '1993'], 'values': ['4357.3']},\n",
       "  {'key': ['SF6', '0.4', '1994'], 'values': ['4665.5']},\n",
       "  {'key': ['SF6', '0.4', '1995'], 'values': ['5929.2']},\n",
       "  {'key': ['SF6', '0.4', '1996'], 'values': ['5126.1']},\n",
       "  {'key': ['SF6', '0.4', '1997'], 'values': ['6999.8']},\n",
       "  {'key': ['SF6', '0.4', '1998'], 'values': ['4878.0']},\n",
       "  {'key': ['SF6', '0.4', '1999'], 'values': ['5316.4']},\n",
       "  {'key': ['SF6', '0.4', '2000'], 'values': ['5209.5']},\n",
       "  {'key': ['SF6', '0.4', '2001'], 'values': ['5384.9']},\n",
       "  {'key': ['SF6', '0.4', '2002'], 'values': ['5245.6']},\n",
       "  {'key': ['SF6', '0.4', '2003'], 'values': ['3733.7']},\n",
       "  {'key': ['SF6', '0.4', '2004'], 'values': ['4153.0']},\n",
       "  {'key': ['SF6', '0.4', '2005'], 'values': ['6648.7']},\n",
       "  {'key': ['SF6', '0.4', '2006'], 'values': ['4940.2']},\n",
       "  {'key': ['SF6', '0.4', '2007'], 'values': ['6025.4']},\n",
       "  {'key': ['SF6', '0.4', '2008'], 'values': ['3195.3']},\n",
       "  {'key': ['SF6', '0.4', '2009'], 'values': ['3070.7']},\n",
       "  {'key': ['SF6', '0.4', '2010'], 'values': ['2783.2']},\n",
       "  {'key': ['SF6', '0.4', '2011'], 'values': ['2431.6']},\n",
       "  {'key': ['SF6', '0.4', '2012'], 'values': ['2330.3']},\n",
       "  {'key': ['SF6', '0.4', '2013'], 'values': ['1844.7']},\n",
       "  {'key': ['SF6', '0.4', '2014'], 'values': ['2012.2']},\n",
       "  {'key': ['SF6', '0.4', '2015'], 'values': ['2330.5']},\n",
       "  {'key': ['SF6', '0.4', '2016'], 'values': ['2520.3']},\n",
       "  {'key': ['SF6', '0.4', '2017'], 'values': ['2009.2']},\n",
       "  {'key': ['SF6', '0.4', '2018'], 'values': ['1446.6']},\n",
       "  {'key': ['SF6', '0.4', '2019'], 'values': ['1502.8']},\n",
       "  {'key': ['SF6', '0.4', '2020'], 'values': ['1626.1']},\n",
       "  {'key': ['SF6', '0.4', '2021'], 'values': ['1685.6']},\n",
       "  {'key': ['SF6_CO2-ekv.', '0.4', '1990'], 'values': ['104.9']},\n",
       "  {'key': ['SF6_CO2-ekv.', '0.4', '1991'], 'values': ['105.8']},\n",
       "  {'key': ['SF6_CO2-ekv.', '0.4', '1992'], 'values': ['105.7']},\n",
       "  {'key': ['SF6_CO2-ekv.', '0.4', '1993'], 'values': ['102.4']},\n",
       "  {'key': ['SF6_CO2-ekv.', '0.4', '1994'], 'values': ['109.6']},\n",
       "  {'key': ['SF6_CO2-ekv.', '0.4', '1995'], 'values': ['139.3']},\n",
       "  {'key': ['SF6_CO2-ekv.', '0.4', '1996'], 'values': ['120.5']},\n",
       "  {'key': ['SF6_CO2-ekv.', '0.4', '1997'], 'values': ['164.5']},\n",
       "  {'key': ['SF6_CO2-ekv.', '0.4', '1998'], 'values': ['114.6']},\n",
       "  {'key': ['SF6_CO2-ekv.', '0.4', '1999'], 'values': ['124.9']},\n",
       "  {'key': ['SF6_CO2-ekv.', '0.4', '2000'], 'values': ['122.4']},\n",
       "  {'key': ['SF6_CO2-ekv.', '0.4', '2001'], 'values': ['126.5']},\n",
       "  {'key': ['SF6_CO2-ekv.', '0.4', '2002'], 'values': ['123.3']},\n",
       "  {'key': ['SF6_CO2-ekv.', '0.4', '2003'], 'values': ['87.7']},\n",
       "  {'key': ['SF6_CO2-ekv.', '0.4', '2004'], 'values': ['97.6']},\n",
       "  {'key': ['SF6_CO2-ekv.', '0.4', '2005'], 'values': ['156.2']},\n",
       "  {'key': ['SF6_CO2-ekv.', '0.4', '2006'], 'values': ['116.1']},\n",
       "  {'key': ['SF6_CO2-ekv.', '0.4', '2007'], 'values': ['141.6']},\n",
       "  {'key': ['SF6_CO2-ekv.', '0.4', '2008'], 'values': ['75.1']},\n",
       "  {'key': ['SF6_CO2-ekv.', '0.4', '2009'], 'values': ['72.2']},\n",
       "  {'key': ['SF6_CO2-ekv.', '0.4', '2010'], 'values': ['65.4']},\n",
       "  {'key': ['SF6_CO2-ekv.', '0.4', '2011'], 'values': ['57.1']},\n",
       "  {'key': ['SF6_CO2-ekv.', '0.4', '2012'], 'values': ['54.8']},\n",
       "  {'key': ['SF6_CO2-ekv.', '0.4', '2013'], 'values': ['43.3']},\n",
       "  {'key': ['SF6_CO2-ekv.', '0.4', '2014'], 'values': ['47.3']},\n",
       "  {'key': ['SF6_CO2-ekv.', '0.4', '2015'], 'values': ['54.8']},\n",
       "  {'key': ['SF6_CO2-ekv.', '0.4', '2016'], 'values': ['59.2']},\n",
       "  {'key': ['SF6_CO2-ekv.', '0.4', '2017'], 'values': ['47.2']},\n",
       "  {'key': ['SF6_CO2-ekv.', '0.4', '2018'], 'values': ['34.0']},\n",
       "  {'key': ['SF6_CO2-ekv.', '0.4', '2019'], 'values': ['35.3']},\n",
       "  {'key': ['SF6_CO2-ekv.', '0.4', '2020'], 'values': ['38.2']},\n",
       "  {'key': ['SF6_CO2-ekv.', '0.4', '2021'], 'values': ['39.6']}],\n",
       " 'metadata': [{'infofile': 'MI0107',\n",
       "   'updated': '2023-03-06T13:07:00Z',\n",
       "   'label': 'Total air emissions by greenhouse gas, sector, year and observations',\n",
       "   'source': 'Swedish Environmental Protection Agency'}]}"
      ]
     },
     "execution_count": 28,
     "metadata": {},
     "output_type": "execute_result"
    }
   ],
   "source": [
    "scb_emissions.set_query(\n",
    "    **{\n",
    "        \"greenhouse gas\": \"Total Greenhouse Gases (kt CO2-eqv.)\",\n",
    "        \"sector\": \"NATIONAL TOTAL (including LULUCF, including international transports)\",\n",
    "    }\n",
    ")\n",
    "\n",
    "co2_equivalence_data = scb_emissions.get_data()\n",
    "co2_equivalence_data\n"
   ]
  },
  {
   "attachments": {},
   "cell_type": "markdown",
   "metadata": {},
   "source": [
    "## Clean data"
   ]
  },
  {
   "cell_type": "code",
   "execution_count": 46,
   "metadata": {},
   "outputs": [
    {
     "data": {
      "text/html": [
       "<div>\n",
       "<style scoped>\n",
       "    .dataframe tbody tr th:only-of-type {\n",
       "        vertical-align: middle;\n",
       "    }\n",
       "\n",
       "    .dataframe tbody tr th {\n",
       "        vertical-align: top;\n",
       "    }\n",
       "\n",
       "    .dataframe thead th {\n",
       "        text-align: right;\n",
       "    }\n",
       "</style>\n",
       "<table border=\"1\" class=\"dataframe\">\n",
       "  <thead>\n",
       "    <tr style=\"text-align: right;\">\n",
       "      <th></th>\n",
       "      <th>key</th>\n",
       "      <th>values</th>\n",
       "    </tr>\n",
       "  </thead>\n",
       "  <tbody>\n",
       "    <tr>\n",
       "      <th>0</th>\n",
       "      <td>[CO2-ekv., 0.4, 1990]</td>\n",
       "      <td>[28861.9]</td>\n",
       "    </tr>\n",
       "    <tr>\n",
       "      <th>1</th>\n",
       "      <td>[CO2-ekv., 0.4, 1991]</td>\n",
       "      <td>[29269.2]</td>\n",
       "    </tr>\n",
       "    <tr>\n",
       "      <th>2</th>\n",
       "      <td>[CO2-ekv., 0.4, 1992]</td>\n",
       "      <td>[30069.9]</td>\n",
       "    </tr>\n",
       "    <tr>\n",
       "      <th>3</th>\n",
       "      <td>[CO2-ekv., 0.4, 1993]</td>\n",
       "      <td>[34527.2]</td>\n",
       "    </tr>\n",
       "    <tr>\n",
       "      <th>4</th>\n",
       "      <td>[CO2-ekv., 0.4, 1994]</td>\n",
       "      <td>[36127.2]</td>\n",
       "    </tr>\n",
       "  </tbody>\n",
       "</table>\n",
       "</div>"
      ],
      "text/plain": [
       "                     key     values\n",
       "0  [CO2-ekv., 0.4, 1990]  [28861.9]\n",
       "1  [CO2-ekv., 0.4, 1991]  [29269.2]\n",
       "2  [CO2-ekv., 0.4, 1992]  [30069.9]\n",
       "3  [CO2-ekv., 0.4, 1993]  [34527.2]\n",
       "4  [CO2-ekv., 0.4, 1994]  [36127.2]"
      ]
     },
     "execution_count": 46,
     "metadata": {},
     "output_type": "execute_result"
    }
   ],
   "source": [
    "import pandas as pd \n",
    "\n",
    "df = pd.DataFrame(co2_equivalence_data[\"data\"])\n",
    "df.to_csv(\"co2.csv\")\n",
    "df.head()"
   ]
  },
  {
   "cell_type": "code",
   "execution_count": 47,
   "metadata": {},
   "outputs": [
    {
     "data": {
      "text/plain": [
       "key\n",
       "1990    28861.9\n",
       "1991    29269.2\n",
       "1992    30069.9\n",
       "1993    34527.2\n",
       "1994    36127.2\n",
       "1995    35548.5\n",
       "1996    37116.3\n",
       "1997    32242.2\n",
       "1998    32915.7\n",
       "1999    29574.1\n",
       "2000    26988.0\n",
       "2001    26710.9\n",
       "2002    27480.8\n",
       "2003    32042.9\n",
       "2004    34916.0\n",
       "2005    31836.0\n",
       "2006    24964.0\n",
       "2007    26033.2\n",
       "2008    23952.5\n",
       "2009    19921.7\n",
       "2010    23153.4\n",
       "2011    16963.9\n",
       "2012    13619.0\n",
       "2013    13527.4\n",
       "2014    13781.1\n",
       "2015    15178.1\n",
       "2016    17216.7\n",
       "2017    23955.7\n",
       "2018    24886.4\n",
       "2019    22023.2\n",
       "2020    14174.7\n",
       "2021    15173.5\n",
       "Name: values, dtype: float64"
      ]
     },
     "execution_count": 47,
     "metadata": {},
     "output_type": "execute_result"
    }
   ],
   "source": [
    "df = df[df[\"key\"].apply(lambda row: row[0] == \"CO2-ekv.\")]\n",
    "df.index = df[\"key\"].apply(lambda row: int(row[-1]))\n",
    "df = df[\"values\"].apply(lambda row: float(row[0]))\n",
    "\n",
    "df"
   ]
  },
  {
   "cell_type": "code",
   "execution_count": 64,
   "metadata": {},
   "outputs": [
    {
     "data": {
      "text/plain": [
       "<Axes: title={'center': 'CO2-ekvivalens inkl. utländska transporter (kt)'}, xlabel='key'>"
      ]
     },
     "execution_count": 64,
     "metadata": {},
     "output_type": "execute_result"
    },
    {
     "data": {
      "image/png": "[encoded data removed]",
      "text/plain": [
       "<Figure size 640x480 with 1 Axes>"
      ]
     },
     "metadata": {},
     "output_type": "display_data"
    }
   ],
   "source": [
    "import matplotlib.pyplot as plt \n",
    "pd.DataFrame(df).plot(title = \"CO2-ekvivalens inkl. utländska transporter (kt)\")"
   ]
  }
 ],
 "metadata": {
  "kernelspec": {
   "display_name": "venv",
   "language": "python",
   "name": "python3"
  },
  "language_info": {
   "codemirror_mode": {
    "name": "ipython",
    "version": 3
   },
   "file_extension": ".py",
   "mimetype": "text/x-python",
   "name": "python",
   "nbconvert_exporter": "python",
   "pygments_lexer": "ipython3",
   "version": "3.9.6"
  },
  "orig_nbformat": 4
 },
 "nbformat": 4,
 "nbformat_minor": 2
}
